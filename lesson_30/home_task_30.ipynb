{
 "cells": [
  {
   "cell_type": "markdown",
   "id": "4ffff122",
   "metadata": {},
   "source": [
    "Домашнее задание 30 (необходимо сделать 3 задачи из 4) на Python:\n",
    "1. Найти самый старый фильм и самый новый фильм - вывести их названия по 1 шт (2 запроса)"
   ]
  },
  {
   "cell_type": "code",
   "execution_count": 70,
   "id": "6589140f",
   "metadata": {},
   "outputs": [],
   "source": [
    "# функция для получения самого старого фильма\n",
    "def get_oldest_movie(tx):\n",
    "    result = tx.run(\n",
    "        \"\"\"\n",
    "        MATCH (movie:Movie)                      // находим все фильмы\n",
    "        WITH MIN(movie.released) AS oldest_year  // определяем минимальный год выпуска\n",
    "        MATCH (m:Movie {released: oldest_year})  // находим фильм с этим годом\n",
    "        RETURN m.title AS oldest_title           // возвращаем его название\n",
    "        LIMIT 1                                  // ограничиваем до одного результата\n",
    "        \"\"\"\n",
    "    )\n",
    "    return result.single()[\"oldest_title\"]       # извлекаем значение из результата\n",
    "\n",
    "# функция для получения самого нового фильма\n",
    "def get_newest_movie(tx):\n",
    "    result = tx.run(\n",
    "        \"\"\"\n",
    "        MATCH (movie:Movie)                      // находим все фильмы\n",
    "        WITH MAX(movie.released) AS newest_year  // определяем максимальный год выпуска\n",
    "        MATCH (m:Movie {released: newest_year})  // находим фильм с этим годом\n",
    "        RETURN m.title AS newest_title           // возвращаем его название\n",
    "        LIMIT 1                                  // ограничиваем до одного результата\n",
    "        \"\"\"\n",
    "    )\n",
    "    return result.single()[\"newest_title\"]       # извлекаем значение из результата"
   ]
  },
  {
   "cell_type": "code",
   "execution_count": 71,
   "id": "602a346f",
   "metadata": {},
   "outputs": [
    {
     "name": "stdout",
     "output_type": "stream",
     "text": [
      "Самый старый фильм: One Flew Over the Cuckoo's Nest\n",
      "Самый новый фильм: Cloud Atlas\n"
     ]
    }
   ],
   "source": [
    "# открываем сессию и выполняем оба запроса\n",
    "with driver.session() as session:\n",
    "    oldest_title = session.execute_read(get_oldest_movie)  # получаем самый старый фильм\n",
    "    newest_title = session.execute_read(get_newest_movie)  # получаем самый новый фильм\n",
    "    print(f\"Самый старый фильм: {oldest_title}\")\n",
    "    print(f\"Самый новый фильм: {newest_title}\")\n"
   ]
  },
  {
   "cell_type": "markdown",
   "id": "479a155b",
   "metadata": {},
   "source": [
    "2. Получить среднее количество актёров на фильм "
   ]
  },
  {
   "cell_type": "code",
   "execution_count": 72,
   "id": "b62f89ac",
   "metadata": {},
   "outputs": [],
   "source": [
    "# Функция для вычисления среднего количества актёров на один фильм\n",
    "def avg_actors_on_movie(tx):\n",
    "    result = tx.run(\n",
    "        \"\"\"\n",
    "        MATCH (actor:Person)-[:ACTED_IN]->(movie:Movie) // Находим пары актёр — фильм\n",
    "        WITH movie, COUNT(actor) AS actor_count         // Считаем количество актёров для каждого фильма\n",
    "        RETURN AVG(actor_count) AS avg_actors           // Вычисляем среднее количество актёров на фильм\n",
    "        \"\"\"\n",
    "    )\n",
    "    return result.single()[\"avg_actors\"]                # Возвращаем значение из результата запроса\n"
   ]
  },
  {
   "cell_type": "code",
   "execution_count": 73,
   "id": "786799ca",
   "metadata": {},
   "outputs": [
    {
     "name": "stdout",
     "output_type": "stream",
     "text": [
      "Среднее количество актеров на один фильм: 4.526315789473684\n"
     ]
    }
   ],
   "source": [
    " # Открываем сессию\n",
    "with driver.session() as session: \n",
    "    result = session.execute_read(avg_actors_on_movie)           # выполняем функцию, которая читает данные из БД в транзакции  \n",
    "    print(f'Среднее количество актеров на один фильм: {result}') # выводим результат \n"
   ]
  },
  {
   "cell_type": "markdown",
   "id": "0a68d127",
   "metadata": {},
   "source": [
    "3. Группировка фильмов по годам и подсчёт количества фильмов в каждом году"
   ]
  },
  {
   "cell_type": "code",
   "execution_count": 74,
   "id": "1d03ce94",
   "metadata": {},
   "outputs": [],
   "source": [
    "# Функция для подсчета количества фильмов в каждом году\n",
    "def cnt_movies_on_every_year(tx):\n",
    "    result = tx.run(\n",
    "        \"\"\"\n",
    "        MATCH (m:Movie)                                 // находим все фильмы\n",
    "        WITH m.released as year, COUNT(m) as cnt_movie  // группируем по году выпуска, считаем количество фильмов\n",
    "        RETURN year, cnt_movie                          // возвращаем год и количество фильмов\n",
    "        ORDER BY year                                   // сортируем по возрастанию года\n",
    "        \"\"\"\n",
    "    )\n",
    "    return [record.data() for record in result]         # преобразуем результаты в список словарей\n"
   ]
  },
  {
   "cell_type": "code",
   "execution_count": 75,
   "id": "068e7a5d",
   "metadata": {},
   "outputs": [],
   "source": [
    "import pandas as pd"
   ]
  },
  {
   "cell_type": "code",
   "execution_count": 76,
   "id": "4fe4d1e8",
   "metadata": {},
   "outputs": [
    {
     "name": "stdout",
     "output_type": "stream",
     "text": [
      "    year  cnt_movie\n",
      "0   1975          1\n",
      "1   1986          2\n",
      "2   1990          1\n",
      "3   1992          4\n",
      "4   1993          1\n",
      "5   1995          2\n",
      "6   1996          3\n",
      "7   1997          2\n",
      "8   1998          3\n",
      "9   1999          4\n",
      "10  2000          3\n",
      "11  2003          3\n",
      "12  2004          1\n",
      "13  2006          3\n",
      "14  2007          1\n",
      "15  2008          2\n",
      "16  2009          1\n",
      "17  2012          1\n"
     ]
    }
   ],
   "source": [
    "# Открываем сессию\n",
    "with driver.session() as session:  \n",
    "    result = session.execute_read(cnt_movies_on_every_year)  # выполняем функцию, которая читает данные из БД в транзакции\n",
    "    df = pd.DataFrame(result)                                # создаём DataFrame из списка словарей\n",
    "    print(df)                                                # выводим DataFrame"
   ]
  },
  {
   "cell_type": "markdown",
   "id": "1ab022d4",
   "metadata": {},
   "source": [
    "4*. Найти актёра с наибольшим промежутком между первым и последним фильмом"
   ]
  },
  {
   "cell_type": "code",
   "execution_count": 77,
   "id": "283429e7",
   "metadata": {},
   "outputs": [],
   "source": [
    "# Функция для поиска актера с промежутком между первым и последним фильмом\n",
    "def actor_with_biggest_interval(tx):\n",
    "    result = tx.run(\n",
    "        \"\"\"\n",
    "        MATCH (actor:Person)-[:ACTED_IN]->(movie:Movie)                                  // находим актёров и фильмы, где они снимались\n",
    "        WITH actor, MIN(movie.released) as first_film, MAX(movie.released) as last_film  // группируем по актеру и находим мин и макс год выпуска фильма для каждого актёра\n",
    "        RETURN\n",
    "            actor.name as actor_name,                                                    // имя актёра\n",
    "            last_film - first_film as interval                                           // вычисляем интервал между первым и последним фильмом\n",
    "        ORDER BY interval DESC                                                           // сортируем по убыванию интервала\n",
    "        LIMIT 1                                                                          // берём актёра с максимальным интервалом\n",
    "        \"\"\"\n",
    "    )\n",
    "    return result.single()                                                               # возвращаем первый результат из объекта Result\n",
    "\n"
   ]
  },
  {
   "cell_type": "code",
   "execution_count": 78,
   "id": "e88dad7e",
   "metadata": {},
   "outputs": [
    {
     "name": "stdout",
     "output_type": "stream",
     "text": [
      "Актёр с наибольшим промежутком: Jack Nicholson, интервал: 28 лет\n"
     ]
    }
   ],
   "source": [
    "# Открываем сессию\n",
    "with driver.session() as session:\n",
    "    result = session.execute_read(actor_with_biggest_interval)                                            # выполняем функцию, которая читает данные из БД в транзакции\n",
    "    print(f\"Актёр с наибольшим промежутком: {result['actor_name']}, интервал: {result['interval']} лет\")  # выводим результат, обращаясь к полям записи по ключам\n"
   ]
  }
 ],
 "metadata": {
  "kernelspec": {
   "display_name": ".venv",
   "language": "python",
   "name": "python3"
  },
  "language_info": {
   "codemirror_mode": {
    "name": "ipython",
    "version": 3
   },
   "file_extension": ".py",
   "mimetype": "text/x-python",
   "name": "python",
   "nbconvert_exporter": "python",
   "pygments_lexer": "ipython3",
   "version": "3.12.10"
  }
 },
 "nbformat": 4,
 "nbformat_minor": 5
}
