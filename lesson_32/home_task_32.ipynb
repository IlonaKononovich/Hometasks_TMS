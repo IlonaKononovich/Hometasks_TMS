{
 "cells": [
  {
   "cell_type": "code",
   "execution_count": 1,
   "id": "d0a95548",
   "metadata": {},
   "outputs": [
    {
     "name": "stdout",
     "output_type": "stream",
     "text": [
      "Collecting clickhouse-connect\n",
      "  Downloading clickhouse_connect-0.8.17-cp312-cp312-macosx_10_13_x86_64.whl.metadata (3.4 kB)\n",
      "Requirement already satisfied: certifi in /Users/ilonakononovic/VScode TMS/.venv/lib/python3.12/site-packages (from clickhouse-connect) (2025.1.31)\n",
      "Requirement already satisfied: urllib3>=1.26 in /Users/ilonakononovic/VScode TMS/.venv/lib/python3.12/site-packages (from clickhouse-connect) (2.3.0)\n",
      "Requirement already satisfied: pytz in /Users/ilonakononovic/VScode TMS/.venv/lib/python3.12/site-packages (from clickhouse-connect) (2025.1)\n",
      "Collecting zstandard (from clickhouse-connect)\n",
      "  Downloading zstandard-0.23.0-cp312-cp312-macosx_10_9_x86_64.whl.metadata (3.0 kB)\n",
      "Collecting lz4 (from clickhouse-connect)\n",
      "  Downloading lz4-4.4.4-cp312-cp312-macosx_10_13_x86_64.whl.metadata (3.8 kB)\n",
      "Downloading clickhouse_connect-0.8.17-cp312-cp312-macosx_10_13_x86_64.whl (262 kB)\n",
      "Downloading lz4-4.4.4-cp312-cp312-macosx_10_13_x86_64.whl (220 kB)\n",
      "Downloading zstandard-0.23.0-cp312-cp312-macosx_10_9_x86_64.whl (788 kB)\n",
      "\u001b[2K   \u001b[90m━━━━━━━━━━━━━━━━━━━━━━━━━━━━━━━━━━━━━━━\u001b[0m \u001b[32m788.7/788.7 kB\u001b[0m \u001b[31m691.8 kB/s\u001b[0m eta \u001b[36m0:00:00\u001b[0m00:01\u001b[0m00:01\u001b[0m\n",
      "\u001b[?25hInstalling collected packages: zstandard, lz4, clickhouse-connect\n",
      "\u001b[2K   \u001b[90m━━━━━━━━━━━━━━━━━━━━━━━━━━━━━━━━━━━━━━━━\u001b[0m \u001b[32m3/3\u001b[0m [clickhouse-connect]lickhouse-connect]\n",
      "\u001b[1A\u001b[2KSuccessfully installed clickhouse-connect-0.8.17 lz4-4.4.4 zstandard-0.23.0\n",
      "Note: you may need to restart the kernel to use updated packages.\n"
     ]
    }
   ],
   "source": [
    "pip install clickhouse-connect"
   ]
  },
  {
   "cell_type": "code",
   "execution_count": 15,
   "id": "92149067",
   "metadata": {},
   "outputs": [],
   "source": [
    "# Импорт клиента для подключения к ClickHouse\n",
    "import clickhouse_connect\n",
    "\n",
    "# Устанавливаем соединение с ClickHouse\n",
    "client = clickhouse_connect.get_client(\n",
    "    host='localhost',       # Адрес сервера ClickHouse (localhost — это мой компьютер)\n",
    "    port=8123,              # Порт по умолчанию для HTTP-протокола\n",
    "    username='default',     # Стандартный пользователь\n",
    "    password=''             # Если пароль не задан — оставляем пустым\n",
    ")\n",
    "\n",
    "# ----------- CREATE -----------\n",
    "# Создаем таблицу, если она ещё не существует\n",
    "def create_table():\n",
    "    client.command('''\n",
    "        CREATE TABLE IF NOT EXISTS test_users (\n",
    "            id UInt32,        -- Уникальный ID пользователя\n",
    "            name String,      -- Имя пользователя\n",
    "            age UInt8         -- Возраст (до 255)\n",
    "        ) ENGINE = MergeTree  -- Движок таблицы: MergeTree — основной в ClickHouse\n",
    "        ORDER BY id           -- Сортировка по id для ускорения поиска\n",
    "    ''')\n",
    "\n",
    "# ----------- INSERT -----------\n",
    "# Добавляем одного пользователя в таблицу\n",
    "def insert_user(user_id, name, age):\n",
    "    # Данные передаются в виде списка списков\n",
    "    client.insert(\n",
    "        'test_users',\n",
    "        [[user_id, name, age]],\n",
    "        column_names=['id', 'name', 'age']\n",
    "    )\n",
    "\n",
    "# ----------- READ -----------\n",
    "# Получаем всех пользователей из таблицы\n",
    "def get_users():\n",
    "    result = client.query('SELECT * FROM test_users')  # Выполняем SQL-запрос\n",
    "    return result.result_rows                          # Возвращаем строки результата, result_rows - это артибут сложного объекта result\n",
    "\n",
    "\n",
    "# В ClickHouse классического UPDATE просто нет или он работает очень ограниченно. Поэтому приходится «эмулировать» обновление, чтобы добиться похожего результата.\n",
    "# ----------- UPDATE (эмуляция) -----------\n",
    "# Обновляем данные пользователя через удаление и повторную вставку\n",
    "def update_user(user_id, new_name, new_age):\n",
    "    delete_user(user_id)                               # Сначала удалим старую запись\n",
    "    insert_user(user_id, new_name, new_age)            # Затем вставим новую\n",
    "\n",
    "# ----------- DELETE -----------\n",
    "# Удаляем пользователя по его id\n",
    "def delete_user(user_id):\n",
    "    # ClickHouse не удаляет мгновенно — фактически помечает строки\n",
    "    client.command(f\"ALTER TABLE test_users DELETE WHERE id = {user_id}\")\n",
    "\n"
   ]
  },
  {
   "cell_type": "code",
   "execution_count": 19,
   "id": "8b07e303",
   "metadata": {},
   "outputs": [
    {
     "name": "stdout",
     "output_type": "stream",
     "text": [
      "До обновления: [(1, 'Alicia', 31), (1, 'Alice', 30), (2, 'Bob', 25)]\n",
      "После обновления: [(2, 'Bob', 25), (1, 'Alicia', 31)]\n",
      "После удаления: [(2, 'Bob', 25), (1, 'Alicia', 31)]\n"
     ]
    }
   ],
   "source": [
    "# ----------- ТЕСТОВЫЙ ЗАПУСК -----------\n",
    "# Запускается, если файл выполняется напрямую\n",
    "if __name__ == '__main__':\n",
    "    create_table()                                     # Создаем таблицу\n",
    "    insert_user(1, 'Alice', 30)                        # Вставляем первого пользователя\n",
    "    insert_user(2, 'Bob', 25)                          # Вставляем второго пользователя\n",
    "\n",
    "    print('До обновления:', get_users())               # Читаем и печатаем\n",
    "\n",
    "    update_user(1, 'Alicia', 31)                       # Обновляем имя и возраст пользователя 1\n",
    "    print('После обновления:', get_users())\n",
    "\n",
    "    delete_user(2)                                     # Удаляем пользователя 2\n",
    "    print('После удаления:', get_users())"
   ]
  },
  {
   "cell_type": "markdown",
   "id": "5fa69f6c",
   "metadata": {},
   "source": [
    "Почему данные не исчезают сразу?\n",
    "В ClickHouse ALTER TABLE ... DELETE WHERE ... — это мутирующая операция (mutation).\n",
    "\n",
    "Она не происходит мгновенно.\n",
    "\n",
    "ClickHouse помечает строки как удалённые, но фактическое удаление происходит в фоне и может занять время (от секунд до минут, в зависимости от нагрузки и объёма данных).\n",
    "\n",
    "Что это значит для тебя?\n",
    "Если ты сразу после delete_user запускаешь get_users(), то видишь ещё \"старые\" данные.\n",
    "\n",
    "Нужно подождать, пока мутация завершится, или проверить статус мутаций."
   ]
  },
  {
   "cell_type": "code",
   "execution_count": 17,
   "id": "39a1cf22",
   "metadata": {},
   "outputs": [],
   "source": [
    "def check_mutation_status(table_name='test_users', database='default'):\n",
    "    # SQL-запрос для получения информации о мутациях (удалениях/обновлениях) в указанной таблице и базе данных\n",
    "    query = f\"\"\"\n",
    "    SELECT\n",
    "        mutation_id,          -- Уникальный ID мутации\n",
    "        command,              -- SQL-команда, которая была выполнена (например, DELETE)\n",
    "        is_done,              -- Флаг завершения (1 — завершено, 0 — ещё выполняется)\n",
    "        latest_fail_reason    -- Причина последней ошибки, если мутация не удалась\n",
    "    FROM system.mutations     -- Специальная системная таблица ClickHouse со статусами мутаций\n",
    "    WHERE table = '{table_name}' AND database = '{database}'\n",
    "    \"\"\"  # ← важно: в конце запроса не ставим точку с запятой!\n",
    "\n",
    "    # Выполняем запрос к ClickHouse\n",
    "    result = client.query(query)\n",
    "\n",
    "    # Извлекаем строки результата в виде списка кортежей\n",
    "    mutations = result.result_rows\n",
    "\n",
    "    # Если нет активных или завершённых мутаций\n",
    "    if not mutations:\n",
    "        print(\"Мутаций для этой таблицы нет.\")\n",
    "        return\n",
    "\n",
    "    # Перебираем и выводим информацию о каждой мутации\n",
    "    for mutation_id, command, is_done, fail_reason in mutations:\n",
    "        status = \"Завершена\" if is_done else \"Выполняется\"\n",
    "        print(f\"ID мутации: {mutation_id}\\nКоманда: {command}\\nСтатус: {status}\")\n",
    "        \n",
    "        # Если при выполнении мутации возникла ошибка — выводим причину\n",
    "        if fail_reason:\n",
    "            print(f\"Причина ошибки: {fail_reason}\")\n",
    "        \n",
    "        print(\"---\")  # Разделитель между мутациями\n"
   ]
  },
  {
   "cell_type": "code",
   "execution_count": 20,
   "id": "151fb8cc",
   "metadata": {},
   "outputs": [
    {
     "name": "stdout",
     "output_type": "stream",
     "text": [
      "ID мутации: mutation_3.txt\n",
      "Команда: DELETE WHERE id = 1\n",
      "Статус: Завершена\n",
      "---\n",
      "ID мутации: mutation_5.txt\n",
      "Команда: DELETE WHERE id = 2\n",
      "Статус: Завершена\n",
      "---\n",
      "ID мутации: mutation_8.txt\n",
      "Команда: DELETE WHERE id = 1\n",
      "Статус: Завершена\n",
      "---\n",
      "ID мутации: mutation_11.txt\n",
      "Команда: DELETE WHERE id = 1\n",
      "Статус: Завершена\n",
      "---\n",
      "ID мутации: mutation_13.txt\n",
      "Команда: DELETE WHERE id = 2\n",
      "Статус: Завершена\n",
      "---\n",
      "ID мутации: mutation_16.txt\n",
      "Команда: DELETE WHERE id = 1\n",
      "Статус: Завершена\n",
      "---\n",
      "ID мутации: mutation_18.txt\n",
      "Команда: DELETE WHERE id = 2\n",
      "Статус: Завершена\n",
      "---\n",
      "ID мутации: mutation_21.txt\n",
      "Команда: DELETE WHERE id = 1\n",
      "Статус: Завершена\n",
      "---\n",
      "ID мутации: mutation_23.txt\n",
      "Команда: DELETE WHERE id = 2\n",
      "Статус: Завершена\n",
      "---\n"
     ]
    }
   ],
   "source": [
    "check_mutation_status()"
   ]
  }
 ],
 "metadata": {
  "kernelspec": {
   "display_name": ".venv",
   "language": "python",
   "name": "python3"
  },
  "language_info": {
   "codemirror_mode": {
    "name": "ipython",
    "version": 3
   },
   "file_extension": ".py",
   "mimetype": "text/x-python",
   "name": "python",
   "nbconvert_exporter": "python",
   "pygments_lexer": "ipython3",
   "version": "3.12.10"
  }
 },
 "nbformat": 4,
 "nbformat_minor": 5
}
