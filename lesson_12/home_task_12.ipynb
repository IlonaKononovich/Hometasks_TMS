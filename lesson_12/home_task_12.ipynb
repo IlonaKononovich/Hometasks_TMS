{
 "cells": [
  {
   "cell_type": "markdown",
   "metadata": {},
   "source": [
    "\n",
    "Задача 1: Найдите всех женщин с IP-адресом, начинающимся на \"1\" и вывести их полные имена"
   ]
  },
  {
   "cell_type": "code",
   "execution_count": 2,
   "metadata": {},
   "outputs": [
    {
     "name": "stdout",
     "output_type": "stream",
     "text": [
      "8        Kaile Clementson\n",
      "10         Melosa Boneham\n",
      "11         Deina Frisdick\n",
      "15       Mamie Wainwright\n",
      "25      Ysabel Aitchinson\n",
      "              ...        \n",
      "980        Pennie Itzhaki\n",
      "984            Lula Almon\n",
      "989    Francesca Shorrock\n",
      "993     Morganica Pierton\n",
      "997    Natalina Clavering\n",
      "Name: full_name, Length: 216, dtype: object\n"
     ]
    }
   ],
   "source": [
    "# Импортиртируем библиотеку\n",
    "import pandas as pd \n",
    "\n",
    "# Создаем Датафрейм путем считывания файла\n",
    "df = pd.read_csv('hw_DE_12.csv') \n",
    "\n",
    "# Добавляем столбец с полным именем\n",
    "df['full_name'] = df['first_name'] + ' ' + df['last_name'] \n",
    "\n",
    "# Фильтруем данные: выводим только женщин, где ip_address начинается на 1\n",
    "filtered_df = df[(df[\"ip_address\"].str.startswith(\"1\")) & (df[\"gender\"] == \"Female\")] \n",
    "\n",
    "# Выводим результат\n",
    "print(filtered_df[\"full_name\"])\n"
   ]
  },
  {
   "cell_type": "markdown",
   "metadata": {},
   "source": [
    "Задача 2:  Создайте новый столбец domain, который будет содержать домен из электронной почты (например, для zsheara0@buzzfeed.com домен — buzzfeed.com)."
   ]
  },
  {
   "cell_type": "code",
   "execution_count": 3,
   "metadata": {},
   "outputs": [],
   "source": [
    "df[\"domain\"] = (        # Создаем новый столбец \"domain\"\n",
    "    df[\"email\"]         # Берем столбец с email-адресами\n",
    "    .str.split('@')     # Разбиваем каждую строку в столбце по символу '@', получаем список из двух частей: [\"имя_пользователя\", \"домен\"]\n",
    "    .str[1]             # Из полученного списка берём второй элемент (индекс 1), который содержит сам домен\n",
    "    )"
   ]
  },
  {
   "cell_type": "markdown",
   "metadata": {},
   "source": [
    "Задача 3: Найдите все уникальные домены из столбца domain."
   ]
  },
  {
   "cell_type": "code",
   "execution_count": null,
   "metadata": {},
   "outputs": [],
   "source": [
    "# Создаем переменную, которой присваиваем уникальные значения столбца domain при помощи метода unique()\n",
    "unique_domains = df[\"domain\"].unique() \n",
    "\n",
    "# Выводим результат\n",
    "print(unique_domains) "
   ]
  },
  {
   "cell_type": "markdown",
   "metadata": {},
   "source": [
    "Задача 5*. Отсортируйте данные по столбцу last_name в алфавитном порядке."
   ]
  },
  {
   "cell_type": "code",
   "execution_count": null,
   "metadata": {},
   "outputs": [],
   "source": [
    "df.sort_values(by='last_name') # сортируем данные в алфавитном порядке по столбцу фамилия"
   ]
  },
  {
   "cell_type": "markdown",
   "metadata": {},
   "source": [
    "Задача 6*. Найти всех девушек, у которых id - четное число"
   ]
  },
  {
   "cell_type": "code",
   "execution_count": null,
   "metadata": {},
   "outputs": [],
   "source": [
    "print(df.dtypes) # проверяем тип столбцов"
   ]
  },
  {
   "cell_type": "code",
   "execution_count": null,
   "metadata": {},
   "outputs": [],
   "source": [
    "filtered2_df = df[(df[\"gender\"] == \"Female\") & (df[\"id\"] % 2 == 0)] # фильтруем данные\n",
    "print(filtered2_df) # выводим результат"
   ]
  },
  {
   "cell_type": "markdown",
   "metadata": {},
   "source": [
    "Задача 4. Анализ возраста (если бы он был)\n",
    "Задача:\n",
    "- Добавьте столбец с возрастом (случайные значения от 18 до 65).\n",
    "- Разделите пользователей на возрастные группы: 18-25, 26-35, 36-50, 51+.\n",
    "- Подсчитайте количество пользователей в каждой группе.\n",
    "- Найдите средний возраст для каждой группы."
   ]
  },
  {
   "cell_type": "code",
   "execution_count": 20,
   "metadata": {},
   "outputs": [
    {
     "data": {
      "text/html": [
       "<div>\n",
       "<style scoped>\n",
       "    .dataframe tbody tr th:only-of-type {\n",
       "        vertical-align: middle;\n",
       "    }\n",
       "\n",
       "    .dataframe tbody tr th {\n",
       "        vertical-align: top;\n",
       "    }\n",
       "\n",
       "    .dataframe thead th {\n",
       "        text-align: right;\n",
       "    }\n",
       "</style>\n",
       "<table border=\"1\" class=\"dataframe\">\n",
       "  <thead>\n",
       "    <tr style=\"text-align: right;\">\n",
       "      <th></th>\n",
       "      <th>id</th>\n",
       "      <th>first_name</th>\n",
       "      <th>last_name</th>\n",
       "      <th>email</th>\n",
       "      <th>gender</th>\n",
       "      <th>ip_address</th>\n",
       "      <th>full_name</th>\n",
       "      <th>domain</th>\n",
       "      <th>age</th>\n",
       "      <th>age_group</th>\n",
       "    </tr>\n",
       "  </thead>\n",
       "  <tbody>\n",
       "    <tr>\n",
       "      <th>0</th>\n",
       "      <td>1</td>\n",
       "      <td>Zebulon</td>\n",
       "      <td>Sheara</td>\n",
       "      <td>zsheara0@buzzfeed.com</td>\n",
       "      <td>Male</td>\n",
       "      <td>26.254.115.173</td>\n",
       "      <td>Zebulon Sheara</td>\n",
       "      <td>buzzfeed.com</td>\n",
       "      <td>46</td>\n",
       "      <td>36-50</td>\n",
       "    </tr>\n",
       "    <tr>\n",
       "      <th>1</th>\n",
       "      <td>2</td>\n",
       "      <td>Gabby</td>\n",
       "      <td>Hundy</td>\n",
       "      <td>ghundy1@dyndns.org</td>\n",
       "      <td>Male</td>\n",
       "      <td>86.222.142.186</td>\n",
       "      <td>Gabby Hundy</td>\n",
       "      <td>dyndns.org</td>\n",
       "      <td>25</td>\n",
       "      <td>18-25</td>\n",
       "    </tr>\n",
       "    <tr>\n",
       "      <th>2</th>\n",
       "      <td>3</td>\n",
       "      <td>Zaneta</td>\n",
       "      <td>Macewan</td>\n",
       "      <td>zmacewan2@dyndns.org</td>\n",
       "      <td>Female</td>\n",
       "      <td>20.98.185.65</td>\n",
       "      <td>Zaneta Macewan</td>\n",
       "      <td>dyndns.org</td>\n",
       "      <td>32</td>\n",
       "      <td>26-35</td>\n",
       "    </tr>\n",
       "    <tr>\n",
       "      <th>3</th>\n",
       "      <td>4</td>\n",
       "      <td>Linn</td>\n",
       "      <td>Steely</td>\n",
       "      <td>lsteely3@psu.edu</td>\n",
       "      <td>Male</td>\n",
       "      <td>65.253.237.106</td>\n",
       "      <td>Linn Steely</td>\n",
       "      <td>psu.edu</td>\n",
       "      <td>47</td>\n",
       "      <td>36-50</td>\n",
       "    </tr>\n",
       "    <tr>\n",
       "      <th>4</th>\n",
       "      <td>5</td>\n",
       "      <td>Althea</td>\n",
       "      <td>Segar</td>\n",
       "      <td>asegar4@prlog.org</td>\n",
       "      <td>Female</td>\n",
       "      <td>25.127.235.34</td>\n",
       "      <td>Althea Segar</td>\n",
       "      <td>prlog.org</td>\n",
       "      <td>56</td>\n",
       "      <td>51+</td>\n",
       "    </tr>\n",
       "    <tr>\n",
       "      <th>...</th>\n",
       "      <td>...</td>\n",
       "      <td>...</td>\n",
       "      <td>...</td>\n",
       "      <td>...</td>\n",
       "      <td>...</td>\n",
       "      <td>...</td>\n",
       "      <td>...</td>\n",
       "      <td>...</td>\n",
       "      <td>...</td>\n",
       "      <td>...</td>\n",
       "    </tr>\n",
       "    <tr>\n",
       "      <th>995</th>\n",
       "      <td>996</td>\n",
       "      <td>Zsa zsa</td>\n",
       "      <td>McGarahan</td>\n",
       "      <td>zmcgarahanrn@craigslist.org</td>\n",
       "      <td>Female</td>\n",
       "      <td>208.135.43.154</td>\n",
       "      <td>Zsa zsa McGarahan</td>\n",
       "      <td>craigslist.org</td>\n",
       "      <td>43</td>\n",
       "      <td>36-50</td>\n",
       "    </tr>\n",
       "    <tr>\n",
       "      <th>996</th>\n",
       "      <td>997</td>\n",
       "      <td>Al</td>\n",
       "      <td>Villiers</td>\n",
       "      <td>avilliersro@nydailynews.com</td>\n",
       "      <td>Agender</td>\n",
       "      <td>168.3.4.142</td>\n",
       "      <td>Al Villiers</td>\n",
       "      <td>nydailynews.com</td>\n",
       "      <td>54</td>\n",
       "      <td>51+</td>\n",
       "    </tr>\n",
       "    <tr>\n",
       "      <th>997</th>\n",
       "      <td>998</td>\n",
       "      <td>Natalina</td>\n",
       "      <td>Clavering</td>\n",
       "      <td>nclaveringrp@jugem.jp</td>\n",
       "      <td>Female</td>\n",
       "      <td>16.223.145.44</td>\n",
       "      <td>Natalina Clavering</td>\n",
       "      <td>jugem.jp</td>\n",
       "      <td>37</td>\n",
       "      <td>36-50</td>\n",
       "    </tr>\n",
       "    <tr>\n",
       "      <th>998</th>\n",
       "      <td>999</td>\n",
       "      <td>Gretta</td>\n",
       "      <td>Witheford</td>\n",
       "      <td>gwithefordrq@discovery.com</td>\n",
       "      <td>Female</td>\n",
       "      <td>61.83.241.246</td>\n",
       "      <td>Gretta Witheford</td>\n",
       "      <td>discovery.com</td>\n",
       "      <td>35</td>\n",
       "      <td>26-35</td>\n",
       "    </tr>\n",
       "    <tr>\n",
       "      <th>999</th>\n",
       "      <td>1000</td>\n",
       "      <td>Tadio</td>\n",
       "      <td>Feighney</td>\n",
       "      <td>tfeighneyrr@google.es</td>\n",
       "      <td>Male</td>\n",
       "      <td>154.243.103.8</td>\n",
       "      <td>Tadio Feighney</td>\n",
       "      <td>google.es</td>\n",
       "      <td>43</td>\n",
       "      <td>36-50</td>\n",
       "    </tr>\n",
       "  </tbody>\n",
       "</table>\n",
       "<p>1000 rows × 10 columns</p>\n",
       "</div>"
      ],
      "text/plain": [
       "       id first_name  last_name                        email   gender  \\\n",
       "0       1    Zebulon     Sheara        zsheara0@buzzfeed.com     Male   \n",
       "1       2      Gabby      Hundy           ghundy1@dyndns.org     Male   \n",
       "2       3     Zaneta    Macewan         zmacewan2@dyndns.org   Female   \n",
       "3       4       Linn     Steely             lsteely3@psu.edu     Male   \n",
       "4       5     Althea      Segar            asegar4@prlog.org   Female   \n",
       "..    ...        ...        ...                          ...      ...   \n",
       "995   996    Zsa zsa  McGarahan  zmcgarahanrn@craigslist.org   Female   \n",
       "996   997         Al   Villiers  avilliersro@nydailynews.com  Agender   \n",
       "997   998   Natalina  Clavering        nclaveringrp@jugem.jp   Female   \n",
       "998   999     Gretta  Witheford   gwithefordrq@discovery.com   Female   \n",
       "999  1000      Tadio   Feighney        tfeighneyrr@google.es     Male   \n",
       "\n",
       "         ip_address           full_name           domain  age age_group  \n",
       "0    26.254.115.173      Zebulon Sheara     buzzfeed.com   46     36-50  \n",
       "1    86.222.142.186         Gabby Hundy       dyndns.org   25     18-25  \n",
       "2      20.98.185.65      Zaneta Macewan       dyndns.org   32     26-35  \n",
       "3    65.253.237.106         Linn Steely          psu.edu   47     36-50  \n",
       "4     25.127.235.34        Althea Segar        prlog.org   56       51+  \n",
       "..              ...                 ...              ...  ...       ...  \n",
       "995  208.135.43.154   Zsa zsa McGarahan   craigslist.org   43     36-50  \n",
       "996     168.3.4.142         Al Villiers  nydailynews.com   54       51+  \n",
       "997   16.223.145.44  Natalina Clavering         jugem.jp   37     36-50  \n",
       "998   61.83.241.246    Gretta Witheford    discovery.com   35     26-35  \n",
       "999   154.243.103.8      Tadio Feighney        google.es   43     36-50  \n",
       "\n",
       "[1000 rows x 10 columns]"
      ]
     },
     "execution_count": 20,
     "metadata": {},
     "output_type": "execute_result"
    }
   ],
   "source": [
    "import numpy as np\n",
    "\n",
    "# С помощью библиотеки numpy добавляеем случайные значения от 18 до 65, указываем, что значения нужно добавить по всей длине df\n",
    "df['age'] = np.random.randint(18, 66, size=len(df)) \n",
    "\n",
    "# Определяем границы возрастных групп\n",
    "bins = [18, 25, 35, 50, 65] # Границы интервалов \n",
    "labels = ['18-25', '26-35', '36-50', '51+'] # Названия групп\n",
    "\n",
    "# Применяем pd.cut(), он позволяет задать границы чисел и присвоить им категории\n",
    "df['age_group'] = pd.cut(df['age'], bins=bins, labels=labels, right=True) \n",
    "\n",
    "df.drop(columns=['age_']) # удалила случайно созданную колонку"
   ]
  },
  {
   "cell_type": "code",
   "execution_count": 21,
   "metadata": {},
   "outputs": [
    {
     "data": {
      "text/plain": [
       "age_group\n",
       "36-50    325\n",
       "51+      284\n",
       "26-35    234\n",
       "18-25    135\n",
       "Name: count, dtype: int64"
      ]
     },
     "execution_count": 21,
     "metadata": {},
     "output_type": "execute_result"
    }
   ],
   "source": [
    "df['age_group'].value_counts() # подсчитываем количество уникальных значений"
   ]
  },
  {
   "cell_type": "code",
   "execution_count": 24,
   "metadata": {},
   "outputs": [
    {
     "name": "stderr",
     "output_type": "stream",
     "text": [
      "/var/folders/j1/4klkwz057sbc54r3sdrzqv680000gn/T/ipykernel_1524/622234994.py:1: FutureWarning: The default of observed=False is deprecated and will be changed to True in a future version of pandas. Pass observed=False to retain current behavior or observed=True to adopt the future default and silence this warning.\n",
      "  df.groupby('age_group')['age'].mean()\n"
     ]
    },
    {
     "data": {
      "text/plain": [
       "age_group\n",
       "18-25    21.859259\n",
       "26-35    30.367521\n",
       "36-50    43.412308\n",
       "51+      57.880282\n",
       "Name: age, dtype: float64"
      ]
     },
     "execution_count": 24,
     "metadata": {},
     "output_type": "execute_result"
    }
   ],
   "source": [
    "df.groupby('age_group')['age'].mean()"
   ]
  }
 ],
 "metadata": {
  "kernelspec": {
   "display_name": ".venv",
   "language": "python",
   "name": "python3"
  },
  "language_info": {
   "codemirror_mode": {
    "name": "ipython",
    "version": 3
   },
   "file_extension": ".py",
   "mimetype": "text/x-python",
   "name": "python",
   "nbconvert_exporter": "python",
   "pygments_lexer": "ipython3",
   "version": "3.12.9"
  }
 },
 "nbformat": 4,
 "nbformat_minor": 2
}
