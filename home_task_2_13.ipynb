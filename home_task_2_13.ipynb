{
 "cells": [
  {
   "cell_type": "markdown",
   "metadata": {},
   "source": [
    "ЗАДАНИЯ С API:\n",
    "1. Количество капсул каждого типа\n",
    "2. Среднее время между первым и последним запуском\n",
    "3. Капсулы без информации о запуске\n",
    "4. Сравнение Dragon 1.0 и Dragon 1.1. Среднее кол-во повторного использования, среднее кол-во посадок"
   ]
  },
  {
   "cell_type": "code",
   "execution_count": null,
   "metadata": {},
   "outputs": [],
   "source": [
    "# Импортируем библиотеку requests для работы с HTTP-запросами\n",
    "import requests\n",
    "\n",
    "import pandas as pd\n",
    "# Выполняем GET-запрос к API SpaceX для получения капсульных данных\n",
    "response = requests.get('https://api.spacexdata.com/v3/capsules')\n",
    "\n",
    "# Преобразуем полученные JSON-данные в DataFrame pandas\n",
    "df = pd.DataFrame(response.json())\n",
    "df\n",
    "\n",
    "# 1 Cчитаем количество капсул каждого типа\n",
    "amount_capsules_type = df['type'].value_counts()\n",
    "print(amount_capsules_type)\n",
    "\n",
    "# 2 Преобразуем столбец с датами в datetime\n",
    "df['original_launch'] = pd.to_datetime(df['original_launch'])\n",
    "\n",
    "# Находим первую дату запуска для каждой капсулы\n",
    "min_launch_dragon_1 = df[df['capsule_id'] == 'dragon1']['original_launch'].min()\n",
    "min_launch_dragon_2 = df[df['capsule_id'] == 'dragon2']['original_launch'].min()\n",
    "\n",
    "# Находим последнюю дату запуска для каждой капсулы\n",
    "max_launch_dragon_1 = df[df['capsule_id'] == 'dragon1']['original_launch'].max()\n",
    "max_launch_dragon_2 = df[df['capsule_id'] == 'dragon2']['original_launch'].max()\n",
    "\n",
    "# Cреднее время между первым и вторым запуском для каждой капсулы\n",
    "average_launch_time_1 = max_launch_dragon_1 - min_launch_dragon_1\n",
    "average_launch_time_2 = max_launch_dragon_2 - min_launch_dragon_2\n",
    "\n",
    "# Общее среднее время между первым и вторым запуском\n",
    "average_launch_time = (average_launch_time_1 + average_launch_time_2) / 2\n",
    "print(f'\\nСреднее время между первым и последним запуском: {average_launch_time}\\n')\n",
    "\n",
    "# 3 Выводим капсулы без информации о запуске\n",
    "none_original_launch = df[df['original_launch'].isna()]\n",
    "print(none_original_launch)\n",
    "\n",
    "# 4 Фильтруем данные по  Dragon 1.0 и Dragon 1.1\n",
    "dragon_1_0 = df[df['type'] == 'Dragon 1.0']\n",
    "dragon_1_1 = df[df['type'] == 'Dragon 1.1']\n",
    "\n",
    "# вычислем среднее количество повторного использования для каждого типа\n",
    "mean_reuse_count_1_0 = dragon_1_0['reuse_count'].mean()\n",
    "mean_reuse_count_1_1 = dragon_1_1['reuse_count'].mean()\n",
    "print(f'\\nСреднее количество повторного использования \\nDragon 1.0: {mean_reuse_count_1_0} \\nDragon 1.1.: {mean_reuse_count_1_1}\\n')\n",
    "\n",
    "# вычисляем среднее количество посадок для каждого типа\n",
    "mean_landings_1_0 = dragon_1_0['landings'].mean()\n",
    "mean_landings_1_1 = dragon_1_1['landings'].mean()\n",
    "print(f'Среднее количество посадок \\nDragon 1.0: {mean_landings_1_0} \\nDragon 1.1.: {mean_landings_1_1}')\n"
   ]
  },
  {
   "cell_type": "code",
   "execution_count": null,
   "metadata": {},
   "outputs": [],
   "source": [
    "# 2 задание через группировку\n",
    "\n",
    "# Преобразуем столбец 'original_launch' в формат datetime, если это ещё не сделано\n",
    "df['original_launch'] = pd.to_datetime(df['original_launch'], errors='coerce')\n",
    "\n",
    "# Группируем данные по 'capsule_id' и для каждой капсулы находим дату первого и последнего запуска\n",
    "first_last_launch = df.groupby('capsule_id')['original_launch'].agg(['min', 'max'])\n",
    "\n",
    "# Вычисляем разницу во времени между первым и последним запуском\n",
    "first_last_launch['time_diff'] = first_last_launch['max'] - first_last_launch['min']\n",
    "\n",
    "# Рассчитываем среднюю разницу по всем капсулам\n",
    "average_time_diff = first_last_launch['time_diff'].mean()\n",
    "\n",
    "# Выводим результат\n",
    "print(f\"Среднее время между первым и последним запуском: {average_time_diff}\")"
   ]
  }
 ],
 "metadata": {
  "kernelspec": {
   "display_name": ".venv",
   "language": "python",
   "name": "python3"
  },
  "language_info": {
   "codemirror_mode": {
    "name": "ipython",
    "version": 3
   },
   "file_extension": ".py",
   "mimetype": "text/x-python",
   "name": "python",
   "nbconvert_exporter": "python",
   "pygments_lexer": "ipython3",
   "version": "3.12.9"
  }
 },
 "nbformat": 4,
 "nbformat_minor": 2
}
